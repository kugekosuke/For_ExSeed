{
 "cells": [
  {
   "cell_type": "markdown",
   "metadata": {},
   "source": [
    "Gradio参考資料\n",
    "\n",
    "    ここでは、実際にGradioが使われているコードを見て、動かすことで、\n",
    "    コードの各要素がどのように機能しているのかを確認しよう！"
   ]
  },
  {
   "cell_type": "markdown",
   "metadata": {},
   "source": [
    "    gradioがインストールされていない場合、先に下のセルを実行してインストールする必要があるよ。"
   ]
  },
  {
   "cell_type": "code",
   "execution_count": 1,
   "metadata": {},
   "outputs": [
    {
     "name": "stdout",
     "output_type": "stream",
     "text": [
      "Defaulting to user installation because normal site-packages is not writeable\n",
      "Collecting gradio\n",
      "  Downloading gradio-4.15.0-py3-none-any.whl.metadata (15 kB)\n",
      "Requirement already satisfied: aiofiles<24.0,>=22.0 in /Users/takuya/Library/Python/3.9/lib/python/site-packages (from gradio) (23.2.1)\n",
      "Requirement already satisfied: altair<6.0,>=4.2.0 in /Users/takuya/Library/Python/3.9/lib/python/site-packages (from gradio) (5.2.0)\n",
      "Requirement already satisfied: fastapi in /Users/takuya/Library/Python/3.9/lib/python/site-packages (from gradio) (0.104.1)\n",
      "Requirement already satisfied: ffmpy in /Users/takuya/Library/Python/3.9/lib/python/site-packages (from gradio) (0.3.1)\n",
      "Collecting gradio-client==0.8.1 (from gradio)\n",
      "  Downloading gradio_client-0.8.1-py3-none-any.whl.metadata (7.1 kB)\n",
      "Requirement already satisfied: httpx in /Users/takuya/Library/Python/3.9/lib/python/site-packages (from gradio) (0.25.2)\n",
      "Requirement already satisfied: huggingface-hub>=0.19.3 in /Users/takuya/Library/Python/3.9/lib/python/site-packages (from gradio) (0.19.4)\n",
      "Requirement already satisfied: importlib-resources<7.0,>=1.3 in /Users/takuya/Library/Python/3.9/lib/python/site-packages (from gradio) (6.1.1)\n",
      "Requirement already satisfied: jinja2<4.0 in /Users/takuya/Library/Python/3.9/lib/python/site-packages (from gradio) (3.1.2)\n",
      "Requirement already satisfied: markupsafe~=2.0 in /Users/takuya/Library/Python/3.9/lib/python/site-packages (from gradio) (2.1.3)\n",
      "Requirement already satisfied: matplotlib~=3.0 in /Users/takuya/Library/Python/3.9/lib/python/site-packages (from gradio) (3.8.2)\n",
      "Requirement already satisfied: numpy~=1.0 in /Users/takuya/Library/Python/3.9/lib/python/site-packages (from gradio) (1.26.2)\n",
      "Requirement already satisfied: orjson~=3.0 in /Users/takuya/Library/Python/3.9/lib/python/site-packages (from gradio) (3.9.10)\n",
      "Requirement already satisfied: packaging in /Users/takuya/Library/Python/3.9/lib/python/site-packages (from gradio) (23.2)\n",
      "Requirement already satisfied: pandas<3.0,>=1.0 in /Users/takuya/Library/Python/3.9/lib/python/site-packages (from gradio) (2.1.3)\n",
      "Requirement already satisfied: pillow<11.0,>=8.0 in /Users/takuya/Library/Python/3.9/lib/python/site-packages (from gradio) (10.1.0)\n",
      "Requirement already satisfied: pydantic>=2.0 in /Users/takuya/Library/Python/3.9/lib/python/site-packages (from gradio) (2.5.2)\n",
      "Requirement already satisfied: pydub in /Users/takuya/Library/Python/3.9/lib/python/site-packages (from gradio) (0.25.1)\n",
      "Requirement already satisfied: python-multipart in /Users/takuya/Library/Python/3.9/lib/python/site-packages (from gradio) (0.0.6)\n",
      "Requirement already satisfied: pyyaml<7.0,>=5.0 in /Users/takuya/Library/Python/3.9/lib/python/site-packages (from gradio) (6.0.1)\n",
      "Collecting ruff>=0.1.7 (from gradio)\n",
      "  Downloading ruff-0.1.14-py3-none-macosx_10_12_x86_64.macosx_11_0_arm64.macosx_10_12_universal2.whl.metadata (22 kB)\n",
      "Requirement already satisfied: semantic-version~=2.0 in /Users/takuya/Library/Python/3.9/lib/python/site-packages (from gradio) (2.10.0)\n",
      "Requirement already satisfied: tomlkit==0.12.0 in /Users/takuya/Library/Python/3.9/lib/python/site-packages (from gradio) (0.12.0)\n",
      "Requirement already satisfied: typer<1.0,>=0.9 in /Users/takuya/Library/Python/3.9/lib/python/site-packages (from typer[all]<1.0,>=0.9->gradio) (0.9.0)\n",
      "Requirement already satisfied: typing-extensions~=4.0 in /Users/takuya/Library/Python/3.9/lib/python/site-packages (from gradio) (4.8.0)\n",
      "Requirement already satisfied: uvicorn>=0.14.0 in /Users/takuya/Library/Python/3.9/lib/python/site-packages (from gradio) (0.24.0.post1)\n",
      "Requirement already satisfied: fsspec in /Users/takuya/Library/Python/3.9/lib/python/site-packages (from gradio-client==0.8.1->gradio) (2023.12.1)\n",
      "Requirement already satisfied: websockets<12.0,>=10.0 in /Users/takuya/Library/Python/3.9/lib/python/site-packages (from gradio-client==0.8.1->gradio) (11.0.3)\n",
      "Requirement already satisfied: jsonschema>=3.0 in /Users/takuya/Library/Python/3.9/lib/python/site-packages (from altair<6.0,>=4.2.0->gradio) (4.20.0)\n",
      "Requirement already satisfied: toolz in /Users/takuya/Library/Python/3.9/lib/python/site-packages (from altair<6.0,>=4.2.0->gradio) (0.12.0)\n",
      "Requirement already satisfied: filelock in /Users/takuya/Library/Python/3.9/lib/python/site-packages (from huggingface-hub>=0.19.3->gradio) (3.13.1)\n",
      "Requirement already satisfied: requests in /Users/takuya/Library/Python/3.9/lib/python/site-packages (from huggingface-hub>=0.19.3->gradio) (2.31.0)\n",
      "Requirement already satisfied: tqdm>=4.42.1 in /Users/takuya/Library/Python/3.9/lib/python/site-packages (from huggingface-hub>=0.19.3->gradio) (4.66.1)\n",
      "Requirement already satisfied: zipp>=3.1.0 in /Users/takuya/Library/Python/3.9/lib/python/site-packages (from importlib-resources<7.0,>=1.3->gradio) (3.17.0)\n",
      "Requirement already satisfied: contourpy>=1.0.1 in /Users/takuya/Library/Python/3.9/lib/python/site-packages (from matplotlib~=3.0->gradio) (1.2.0)\n",
      "Requirement already satisfied: cycler>=0.10 in /Users/takuya/Library/Python/3.9/lib/python/site-packages (from matplotlib~=3.0->gradio) (0.12.1)\n",
      "Requirement already satisfied: fonttools>=4.22.0 in /Users/takuya/Library/Python/3.9/lib/python/site-packages (from matplotlib~=3.0->gradio) (4.46.0)\n",
      "Requirement already satisfied: kiwisolver>=1.3.1 in /Users/takuya/Library/Python/3.9/lib/python/site-packages (from matplotlib~=3.0->gradio) (1.4.5)\n",
      "Requirement already satisfied: pyparsing>=2.3.1 in /Users/takuya/Library/Python/3.9/lib/python/site-packages (from matplotlib~=3.0->gradio) (3.1.1)\n",
      "Requirement already satisfied: python-dateutil>=2.7 in /Users/takuya/Library/Python/3.9/lib/python/site-packages (from matplotlib~=3.0->gradio) (2.8.2)\n",
      "Requirement already satisfied: pytz>=2020.1 in /Users/takuya/Library/Python/3.9/lib/python/site-packages (from pandas<3.0,>=1.0->gradio) (2023.3.post1)\n",
      "Requirement already satisfied: tzdata>=2022.1 in /Users/takuya/Library/Python/3.9/lib/python/site-packages (from pandas<3.0,>=1.0->gradio) (2023.3)\n",
      "Requirement already satisfied: annotated-types>=0.4.0 in /Users/takuya/Library/Python/3.9/lib/python/site-packages (from pydantic>=2.0->gradio) (0.6.0)\n",
      "Requirement already satisfied: pydantic-core==2.14.5 in /Users/takuya/Library/Python/3.9/lib/python/site-packages (from pydantic>=2.0->gradio) (2.14.5)\n",
      "Requirement already satisfied: click<9.0.0,>=7.1.1 in /Users/takuya/Library/Python/3.9/lib/python/site-packages (from typer<1.0,>=0.9->typer[all]<1.0,>=0.9->gradio) (8.1.7)\n",
      "Requirement already satisfied: colorama<0.5.0,>=0.4.3 in /Users/takuya/Library/Python/3.9/lib/python/site-packages (from typer[all]<1.0,>=0.9->gradio) (0.4.6)\n",
      "Requirement already satisfied: shellingham<2.0.0,>=1.3.0 in /Users/takuya/Library/Python/3.9/lib/python/site-packages (from typer[all]<1.0,>=0.9->gradio) (1.5.4)\n",
      "Requirement already satisfied: rich<14.0.0,>=10.11.0 in /Users/takuya/Library/Python/3.9/lib/python/site-packages (from typer[all]<1.0,>=0.9->gradio) (13.7.0)\n",
      "Requirement already satisfied: h11>=0.8 in /Users/takuya/Library/Python/3.9/lib/python/site-packages (from uvicorn>=0.14.0->gradio) (0.14.0)\n",
      "Requirement already satisfied: anyio<4.0.0,>=3.7.1 in /Users/takuya/Library/Python/3.9/lib/python/site-packages (from fastapi->gradio) (3.7.1)\n",
      "Requirement already satisfied: starlette<0.28.0,>=0.27.0 in /Users/takuya/Library/Python/3.9/lib/python/site-packages (from fastapi->gradio) (0.27.0)\n",
      "Requirement already satisfied: certifi in /Users/takuya/Library/Python/3.9/lib/python/site-packages (from httpx->gradio) (2023.11.17)\n",
      "Requirement already satisfied: httpcore==1.* in /Users/takuya/Library/Python/3.9/lib/python/site-packages (from httpx->gradio) (1.0.2)\n",
      "Requirement already satisfied: idna in /Users/takuya/Library/Python/3.9/lib/python/site-packages (from httpx->gradio) (3.6)\n",
      "Requirement already satisfied: sniffio in /Users/takuya/Library/Python/3.9/lib/python/site-packages (from httpx->gradio) (1.3.0)\n",
      "Requirement already satisfied: exceptiongroup in /Users/takuya/Library/Python/3.9/lib/python/site-packages (from anyio<4.0.0,>=3.7.1->fastapi->gradio) (1.2.0)\n",
      "Requirement already satisfied: attrs>=22.2.0 in /Users/takuya/Library/Python/3.9/lib/python/site-packages (from jsonschema>=3.0->altair<6.0,>=4.2.0->gradio) (23.1.0)\n",
      "Requirement already satisfied: jsonschema-specifications>=2023.03.6 in /Users/takuya/Library/Python/3.9/lib/python/site-packages (from jsonschema>=3.0->altair<6.0,>=4.2.0->gradio) (2023.11.2)\n",
      "Requirement already satisfied: referencing>=0.28.4 in /Users/takuya/Library/Python/3.9/lib/python/site-packages (from jsonschema>=3.0->altair<6.0,>=4.2.0->gradio) (0.31.1)\n",
      "Requirement already satisfied: rpds-py>=0.7.1 in /Users/takuya/Library/Python/3.9/lib/python/site-packages (from jsonschema>=3.0->altair<6.0,>=4.2.0->gradio) (0.13.2)\n",
      "Requirement already satisfied: six>=1.5 in /Library/Developer/CommandLineTools/Library/Frameworks/Python3.framework/Versions/3.9/lib/python3.9/site-packages (from python-dateutil>=2.7->matplotlib~=3.0->gradio) (1.15.0)\n",
      "Requirement already satisfied: markdown-it-py>=2.2.0 in /Users/takuya/Library/Python/3.9/lib/python/site-packages (from rich<14.0.0,>=10.11.0->typer[all]<1.0,>=0.9->gradio) (3.0.0)\n",
      "Requirement already satisfied: pygments<3.0.0,>=2.13.0 in /Users/takuya/Library/Python/3.9/lib/python/site-packages (from rich<14.0.0,>=10.11.0->typer[all]<1.0,>=0.9->gradio) (2.17.2)\n",
      "Requirement already satisfied: charset-normalizer<4,>=2 in /Users/takuya/Library/Python/3.9/lib/python/site-packages (from requests->huggingface-hub>=0.19.3->gradio) (3.3.2)\n",
      "Requirement already satisfied: urllib3<3,>=1.21.1 in /Users/takuya/Library/Python/3.9/lib/python/site-packages (from requests->huggingface-hub>=0.19.3->gradio) (2.1.0)\n",
      "Requirement already satisfied: mdurl~=0.1 in /Users/takuya/Library/Python/3.9/lib/python/site-packages (from markdown-it-py>=2.2.0->rich<14.0.0,>=10.11.0->typer[all]<1.0,>=0.9->gradio) (0.1.2)\n",
      "Downloading gradio-4.15.0-py3-none-any.whl (16.6 MB)\n",
      "\u001b[2K   \u001b[38;2;114;156;31m━━━━━━━━━━━━━━━━━━━━━━━━━━━━━━━━━━━━━━━━\u001b[0m \u001b[32m16.6/16.6 MB\u001b[0m \u001b[31m38.5 MB/s\u001b[0m eta \u001b[36m0:00:00\u001b[0mm eta \u001b[36m0:00:01\u001b[0m0:01\u001b[0m01\u001b[0m\n",
      "\u001b[?25hDownloading gradio_client-0.8.1-py3-none-any.whl (305 kB)\n",
      "\u001b[2K   \u001b[38;2;114;156;31m━━━━━━━━━━━━━━━━━━━━━━━━━━━━━━━━━━━━━━━━\u001b[0m \u001b[32m305.2/305.2 kB\u001b[0m \u001b[31m27.5 MB/s\u001b[0m eta \u001b[36m0:00:00\u001b[0m\n",
      "\u001b[?25hDownloading ruff-0.1.14-py3-none-macosx_10_12_x86_64.macosx_11_0_arm64.macosx_10_12_universal2.whl (14.4 MB)\n",
      "\u001b[2K   \u001b[38;2;114;156;31m━━━━━━━━━━━━━━━━━━━━━━━━━━━━━━━━━━━━━━━━\u001b[0m \u001b[32m14.4/14.4 MB\u001b[0m \u001b[31m20.7 MB/s\u001b[0m eta \u001b[36m0:00:00\u001b[0m MB/s\u001b[0m eta \u001b[36m0:00:01\u001b[0m:01\u001b[0m\n",
      "\u001b[?25hInstalling collected packages: ruff, gradio-client, gradio\n",
      "  Attempting uninstall: gradio-client\n",
      "    Found existing installation: gradio_client 0.7.1\n",
      "    Uninstalling gradio_client-0.7.1:\n",
      "      Successfully uninstalled gradio_client-0.7.1\n",
      "Successfully installed gradio-4.15.0 gradio-client-0.8.1 ruff-0.1.14\n",
      "Note: you may need to restart the kernel to use updated packages.\n"
     ]
    }
   ],
   "source": [
    "pip install gradio"
   ]
  },
  {
   "cell_type": "code",
   "execution_count": 3,
   "metadata": {},
   "outputs": [
    {
     "name": "stdout",
     "output_type": "stream",
     "text": [
      "Running on local URL:  http://127.0.0.1:7861\n",
      "\n",
      "To create a public link, set `share=True` in `launch()`.\n"
     ]
    },
    {
     "data": {
      "text/html": [
       "<div><iframe src=\"http://127.0.0.1:7861/\" width=\"100%\" height=\"500\" allow=\"autoplay; camera; microphone; clipboard-read; clipboard-write;\" frameborder=\"0\" allowfullscreen></iframe></div>"
      ],
      "text/plain": [
       "<IPython.core.display.HTML object>"
      ]
     },
     "metadata": {},
     "output_type": "display_data"
    },
    {
     "data": {
      "text/plain": []
     },
     "execution_count": 3,
     "metadata": {},
     "output_type": "execute_result"
    }
   ],
   "source": [
    "import gradio as gr\n",
    "\n",
    "def greet(name, time):\n",
    "    if time == \"朝\":\n",
    "        return name + \"、おはよう！\"\n",
    "    elif time == \"昼\":\n",
    "        return name + \"、こんにちは！\"\n",
    "    elif time == \"夜\":\n",
    "        return name + \"、こんばんわ！\"\n",
    "\n",
    "with gr.Blocks() as demo1:\n",
    "    input_name = gr.Textbox(label=\"名前\", placeholder=\"名前を入力してね１\")\n",
    "    input_time = gr.Radio([\"朝\", \"昼\", \"夜\"], label=\"時間\")\n",
    "    output = gr.Textbox(label=\"挨拶\")\n",
    "\n",
    "    btn_greet = gr.Button(\"挨拶\")\n",
    "    btn_greet.click(fn=greet, inputs=[input_name, input_time], outputs=output)\n",
    "\n",
    "    with gr.Row():\n",
    "        input_name\n",
    "        input_time\n",
    "        output\n",
    "demo1.launch()\n"
   ]
  },
  {
   "cell_type": "code",
   "execution_count": 4,
   "metadata": {},
   "outputs": [
    {
     "name": "stdout",
     "output_type": "stream",
     "text": [
      "Running on local URL:  http://127.0.0.1:7862\n",
      "\n",
      "To create a public link, set `share=True` in `launch()`.\n"
     ]
    },
    {
     "data": {
      "text/html": [
       "<div><iframe src=\"http://127.0.0.1:7862/\" width=\"100%\" height=\"500\" allow=\"autoplay; camera; microphone; clipboard-read; clipboard-write;\" frameborder=\"0\" allowfullscreen></iframe></div>"
      ],
      "text/plain": [
       "<IPython.core.display.HTML object>"
      ]
     },
     "metadata": {},
     "output_type": "display_data"
    },
    {
     "data": {
      "text/plain": []
     },
     "execution_count": 4,
     "metadata": {},
     "output_type": "execute_result"
    }
   ],
   "source": [
    "def classify_number(number):\n",
    "    if number <= 2:\n",
    "        return \"弱い\"\n",
    "    elif number <= 4:\n",
    "        return \"まあまあ\"\n",
    "    elif number <= 8:\n",
    "        return \"やるな\"\n",
    "    else:\n",
    "        return \"強い\"\n",
    "        \n",
    "with gr.Blocks() as demo2:\n",
    "    input = gr.Slider(minimum=0, maximum=10, value=5, step=1, label=\"１０段階でレベルを選択\", interactive=True)\n",
    "    output = gr.Textbox(label=\"評価\")\n",
    "    input.change(classify_number, input, output, \"classify\")\n",
    "demo2.launch()\n"
   ]
  },
  {
   "cell_type": "code",
   "execution_count": null,
   "metadata": {},
   "outputs": [],
   "source": [
    "def file_extension(file):\n",
    "    if file.endswith(\".txt\"):\n",
    "        return \"このファイルは.txtファイルだね\"\n",
    "    else:\n",
    "        return \"このファイルは.txtファイルではないね\"\n",
    "\n",
    "with gr.Blocks() as demo3:\n",
    "    with gr.Tab(\".txt検出\"):\n",
    "        file_input = gr.File(label=\"ファイルをアップロードしてね\", type=\"filepath\")\n",
    "        output = gr.Textbox(label=\"ファイルの拡張子\")\n",
    "    with gr.Tab(\"何でもないタブ\"):\n",
    "        x = 2\n",
    "    file_input.change(file_extension, inputs=file_input, outputs=output)\n",
    "demo3.launch()"
   ]
  }
 ],
 "metadata": {
  "kernelspec": {
   "display_name": "Python 3",
   "language": "python",
   "name": "python3"
  },
  "language_info": {
   "codemirror_mode": {
    "name": "ipython",
    "version": 3
   },
   "file_extension": ".py",
   "mimetype": "text/x-python",
   "name": "python",
   "nbconvert_exporter": "python",
   "pygments_lexer": "ipython3",
   "version": "3.9.6"
  }
 },
 "nbformat": 4,
 "nbformat_minor": 2
}
